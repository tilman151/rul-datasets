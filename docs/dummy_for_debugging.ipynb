{
 "cells": [
  {
   "cell_type": "markdown",
   "source": [
    "# Dummy Dataset\n",
    "\n",
    "Developing a RUL estimation approach involves iterating multiple possible solutions as fast as possible. The dummy dataset helps with this by being tiny and simple to fit, so you can quickly test out your approach.\n",
    "\n",
    "It is fully compatible with the data modules and can be used as a drop-in replacement for each real dataset in this library."
   ],
   "metadata": {
    "collapsed": false
   }
  },
  {
   "cell_type": "code",
   "execution_count": 21,
   "metadata": {
    "collapsed": true
   },
   "outputs": [],
   "source": [
    "import logging\n",
    "\n",
    "import matplotlib.pyplot as plt\n",
    "import numpy as np\n",
    "import pytorch_lightning as pl\n",
    "import torch\n",
    "import torch.nn as nn\n",
    "from tqdm.notebook import tqdm\n",
    "\n",
    "import rul_datasets\n",
    "\n",
    "logging.getLogger(\"lightning\").setLevel(logging.ERROR)"
   ]
  },
  {
   "cell_type": "markdown",
   "source": [
    "## The Approach\n",
    "\n",
    "Below you can see a simple LightningModule that implements supervised training of a RUL estimation network. The network is a single 1D-Conv layer with three fully-connected layers. We train with the Adam optimizer and an MSE loss. The RUL values are scaled between 0 and 1 using the default `max_rul` of the dummy dataset.\n",
    "\n",
    "The validation and test metric is the RMSE. Test metrics are calculated for both sub-datasets of the dummy dataset to check how well the approach generalizes."
   ],
   "metadata": {
    "collapsed": false
   }
  },
  {
   "cell_type": "code",
   "execution_count": 22,
   "outputs": [],
   "source": [
    "class Supervised(pl.LightningModule):\n",
    "    def __init__(self):\n",
    "        super(Supervised, self).__init__()\n",
    "\n",
    "        self.feature_extractor = nn.Sequential(\n",
    "            nn.Conv1d(1, 8, 3),\n",
    "            nn.ReLU(),\n",
    "            nn.Flatten(),\n",
    "            nn.Linear(64, 8),\n",
    "            nn.ReLU(),\n",
    "            nn.Linear(8, 2),\n",
    "            nn.ReLU(),\n",
    "        )\n",
    "        self.regressor = nn.Sequential(nn.Linear(2, 1))\n",
    "\n",
    "    def configure_optimizers(self):\n",
    "        return torch.optim.Adam(self.parameters(), lr=0.05)\n",
    "\n",
    "    def forward(self, features):\n",
    "        return self.regressor(self.feature_extractor(features))\n",
    "\n",
    "    def training_step(self, batch, batch_idx):\n",
    "        features, labels = batch\n",
    "        preds = self.forward(features)\n",
    "        loss = nn.functional.mse_loss(preds / 50, labels / 50)\n",
    "        self.log(\"train_loss\", loss)\n",
    "\n",
    "        return loss\n",
    "\n",
    "    def validation_step(self, batch, batch_idx, dataloader_idx = None):\n",
    "        features, labels= batch\n",
    "        preds = self.forward(features)\n",
    "        loss = nn.functional.mse_loss(preds, labels)\n",
    "        self.log(\"val_loss\", loss)\n",
    "\n",
    "    def test_step(self, batch, batch_idx, dataloader_idx = None):\n",
    "        features, labels= batch\n",
    "        preds = self.forward(features)\n",
    "        loss = nn.functional.mse_loss(preds, labels)\n",
    "        self.log(f\"test_loss_fd{dataloader_idx+1}\", loss)\n"
   ],
   "metadata": {
    "collapsed": false
   }
  },
  {
   "cell_type": "markdown",
   "source": [
    "## The Training Loop\n",
    "\n",
    "This training loop constructs a BaselineDataModule using the FD1 sub-dataset of the dummy dataset. The data module uses the `dev` split of FD1 for training, the `val` split of FD1 for validation, and the `test` split of both FD1 and FD2 for testing.\n",
    "\n",
    "The training is run for 50 epochs and the test metrics are calculated using the most recent network parameters. To test how stable the training is, it is repeated `num_replication` times. This takes about 2 minutes on a fairly recent laptop CPU."
   ],
   "metadata": {
    "collapsed": false
   }
  },
  {
   "cell_type": "code",
   "execution_count": 23,
   "outputs": [],
   "source": [
    "def train(num_replications):\n",
    "    fd1 = rul_datasets.reader.DummyReader(1)\n",
    "    dm = rul_datasets.BaselineDataModule(rul_datasets.RulDataModule(fd1, batch_size=16))\n",
    "\n",
    "    results = []\n",
    "    for _ in tqdm(range(num_replications)):\n",
    "        lm = Supervised()\n",
    "        trainer = pl.Trainer(max_epochs=50, enable_progress_bar=False, enable_model_summary=False)\n",
    "        trainer.fit(lm, dm)\n",
    "        results.append(trainer.test(lm, dm))\n",
    "\n",
    "    return results"
   ],
   "metadata": {
    "collapsed": false
   }
  },
  {
   "cell_type": "code",
   "execution_count": null,
   "outputs": [],
   "source": [
    "test_results = train(10)"
   ],
   "metadata": {
    "collapsed": false,
    "pycharm": {
     "is_executing": true
    }
   }
  },
  {
   "cell_type": "code",
   "execution_count": 25,
   "outputs": [],
   "source": [
    "# re-ordering the results into numpy arrays\n",
    "fd1_results = np.empty(len(test_results))\n",
    "fd2_results = np.empty_like(fd1_results)\n",
    "for i, (fd1_res, fd2_res) in enumerate(test_results):\n",
    "    fd1_results[i] = fd1_res[\"test_loss_fd1/dataloader_idx_0\"]\n",
    "    fd2_results[i] = fd2_res[\"test_loss_fd2/dataloader_idx_1\"]"
   ],
   "metadata": {
    "collapsed": false
   }
  },
  {
   "cell_type": "markdown",
   "source": [
    "## The Results\n",
    "\n",
    "In the box plot below you can see how our approach performs. It can fit FD1 pretty reasonably. Unfortunately, it does not generalize well, as the performance on FD2 is much worse.\n",
    "\n",
    "A second thing to notice are the outliers (blue and orange dots). These indicate that our approach is not stable as test performance varies wildly between training runs. It even seems like is doesn't learn anything sometimes. We are now able test out different solutions to improve stability."
   ],
   "metadata": {
    "collapsed": false
   }
  },
  {
   "cell_type": "code",
   "execution_count": 38,
   "outputs": [
    {
     "data": {
      "text/plain": "<Figure size 640x480 with 1 Axes>",
      "image/png": "[encoded data removed]"
     },
     "metadata": {},
     "output_type": "display_data"
    }
   ],
   "source": [
    "fd1_outliers = fd1_results[fd1_results > 75]\n",
    "fd1_perf = fd1_results[fd1_results <= 75]\n",
    "fd2_outliers = fd1_results[fd1_results > 75]\n",
    "fd2_perf = fd2_results[fd2_results <= 75]\n",
    "\n",
    "plt.boxplot(fd1_perf, positions=[0])\n",
    "plt.boxplot(fd2_perf, positions=[1])\n",
    "plt.scatter(np.random.randn(len(fd1_outliers)) * 0.05, fd1_outliers)\n",
    "plt.scatter(1 + np.random.randn(len(fd2_outliers)) * 0.05, fd2_outliers)\n",
    "\n",
    "plt.xticks([0, 1], [\"FD1\", \"FD2\"])\n",
    "plt.yscale(\"log\")\n",
    "plt.ylabel(\"Logarithmic RMSE\")\n",
    "plt.show()"
   ],
   "metadata": {
    "collapsed": false
   }
  }
 ],
 "metadata": {
  "kernelspec": {
   "display_name": "Python 3",
   "language": "python",
   "name": "python3"
  },
  "language_info": {
   "codemirror_mode": {
    "name": "ipython",
    "version": 2
   },
   "file_extension": ".py",
   "mimetype": "text/x-python",
   "name": "python",
   "nbconvert_exporter": "python",
   "pygments_lexer": "ipython2",
   "version": "2.7.6"
  }
 },
 "nbformat": 4,
 "nbformat_minor": 0
}
